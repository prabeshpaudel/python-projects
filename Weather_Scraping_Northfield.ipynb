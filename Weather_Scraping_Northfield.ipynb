{
 "cells": [
  {
   "cell_type": "code",
   "execution_count": 1,
   "metadata": {},
   "outputs": [],
   "source": [
    "import requests\n",
    "from bs4 import BeautifulSoup\n",
    "import pandas"
   ]
  },
  {
   "cell_type": "code",
   "execution_count": 2,
   "metadata": {},
   "outputs": [],
   "source": [
    "page = requests.get(\"https://forecast.weather.gov/MapClick.php?lat=44.4496&lon=-93.1538#.XE5-RM9KjRY\")\n",
    "soup = BeautifulSoup(page.content, \"html.parser\")"
   ]
  },
  {
   "cell_type": "code",
   "execution_count": 3,
   "metadata": {},
   "outputs": [],
   "source": [
    "seven_day_forecast = soup.find(id = \"seven-day-forecast\")"
   ]
  },
  {
   "cell_type": "code",
   "execution_count": 4,
   "metadata": {},
   "outputs": [],
   "source": [
    "period_tags = seven_day_forecast.select(\".tombstone-container .period-name\")"
   ]
  },
  {
   "cell_type": "code",
   "execution_count": 5,
   "metadata": {},
   "outputs": [],
   "source": [
    "short_desc = seven_day_forecast.select(\".tombstone-container .short-desc\")"
   ]
  },
  {
   "cell_type": "code",
   "execution_count": 6,
   "metadata": {},
   "outputs": [],
   "source": [
    "temp = seven_day_forecast.select(\".tombstone-container .temp\")"
   ]
  },
  {
   "cell_type": "code",
   "execution_count": 7,
   "metadata": {},
   "outputs": [],
   "source": [
    "short_descs = []\n",
    "for i in short_desc:\n",
    "    short_descs.append(i.get_text())"
   ]
  },
  {
   "cell_type": "code",
   "execution_count": 15,
   "metadata": {},
   "outputs": [],
   "source": [
    "temps = []\n",
    "for i in temp:\n",
    "    temps.append(i.get_text())"
   ]
  },
  {
   "cell_type": "code",
   "execution_count": 16,
   "metadata": {},
   "outputs": [],
   "source": [
    "periods = []\n",
    "for i in period_tags:\n",
    "    periods.append(i.get_text())"
   ]
  },
  {
   "cell_type": "code",
   "execution_count": 17,
   "metadata": {},
   "outputs": [],
   "source": [
    "weather = pandas.DataFrame({\n",
    "    \"Period\": periods[1:],\n",
    "    \"Temperature\": temps,\n",
    "    \"Description\": short_descs[1:]\n",
    "\n",
    "})"
   ]
  },
  {
   "cell_type": "code",
   "execution_count": 18,
   "metadata": {},
   "outputs": [
    {
     "data": {
      "text/html": [
       "<div>\n",
       "<style scoped>\n",
       "    .dataframe tbody tr th:only-of-type {\n",
       "        vertical-align: middle;\n",
       "    }\n",
       "\n",
       "    .dataframe tbody tr th {\n",
       "        vertical-align: top;\n",
       "    }\n",
       "\n",
       "    .dataframe thead th {\n",
       "        text-align: right;\n",
       "    }\n",
       "</style>\n",
       "<table border=\"1\" class=\"dataframe\">\n",
       "  <thead>\n",
       "    <tr style=\"text-align: right;\">\n",
       "      <th></th>\n",
       "      <th>Period</th>\n",
       "      <th>Temperature</th>\n",
       "      <th>Description</th>\n",
       "    </tr>\n",
       "  </thead>\n",
       "  <tbody>\n",
       "    <tr>\n",
       "      <th>0</th>\n",
       "      <td>Tonight</td>\n",
       "      <td>Low: 9 °F</td>\n",
       "      <td>Heavy Snowand PatchyBlowing Snow</td>\n",
       "    </tr>\n",
       "    <tr>\n",
       "      <th>1</th>\n",
       "      <td>Monday</td>\n",
       "      <td>High: 9 °F</td>\n",
       "      <td>Snow andPatchyBlowing Snowthen SlightChance Snow</td>\n",
       "    </tr>\n",
       "    <tr>\n",
       "      <th>2</th>\n",
       "      <td>MondayNight</td>\n",
       "      <td>Low: -14 °F</td>\n",
       "      <td>Mostly Cloudy</td>\n",
       "    </tr>\n",
       "    <tr>\n",
       "      <th>3</th>\n",
       "      <td>Tuesday</td>\n",
       "      <td>High: -8 °F</td>\n",
       "      <td>Mostly Sunnythen PatchyBlowing Snowand Blustery</td>\n",
       "    </tr>\n",
       "    <tr>\n",
       "      <th>4</th>\n",
       "      <td>TuesdayNight</td>\n",
       "      <td>Low: -29 °F</td>\n",
       "      <td>PatchyBlowing Snowthen MostlyCloudy</td>\n",
       "    </tr>\n",
       "    <tr>\n",
       "      <th>5</th>\n",
       "      <td>Wednesday</td>\n",
       "      <td>High: -16 °F</td>\n",
       "      <td>Cold</td>\n",
       "    </tr>\n",
       "    <tr>\n",
       "      <th>6</th>\n",
       "      <td>WednesdayNight</td>\n",
       "      <td>Low: -30 °F</td>\n",
       "      <td>Mostly Clear</td>\n",
       "    </tr>\n",
       "    <tr>\n",
       "      <th>7</th>\n",
       "      <td>Thursday</td>\n",
       "      <td>High: -1 °F</td>\n",
       "      <td>Cold</td>\n",
       "    </tr>\n",
       "  </tbody>\n",
       "</table>\n",
       "</div>"
      ],
      "text/plain": [
       "           Period   Temperature  \\\n",
       "0         Tonight     Low: 9 °F   \n",
       "1          Monday    High: 9 °F   \n",
       "2     MondayNight   Low: -14 °F   \n",
       "3         Tuesday   High: -8 °F   \n",
       "4    TuesdayNight   Low: -29 °F   \n",
       "5       Wednesday  High: -16 °F   \n",
       "6  WednesdayNight   Low: -30 °F   \n",
       "7        Thursday   High: -1 °F   \n",
       "\n",
       "                                        Description  \n",
       "0                  Heavy Snowand PatchyBlowing Snow  \n",
       "1  Snow andPatchyBlowing Snowthen SlightChance Snow  \n",
       "2                                     Mostly Cloudy  \n",
       "3   Mostly Sunnythen PatchyBlowing Snowand Blustery  \n",
       "4               PatchyBlowing Snowthen MostlyCloudy  \n",
       "5                                              Cold  \n",
       "6                                      Mostly Clear  \n",
       "7                                              Cold  "
      ]
     },
     "execution_count": 18,
     "metadata": {},
     "output_type": "execute_result"
    }
   ],
   "source": [
    "weather"
   ]
  }
 ],
 "metadata": {
  "kernelspec": {
   "display_name": "Python 3",
   "language": "python",
   "name": "python3"
  },
  "language_info": {
   "codemirror_mode": {
    "name": "ipython",
    "version": 3
   },
   "file_extension": ".py",
   "mimetype": "text/x-python",
   "name": "python",
   "nbconvert_exporter": "python",
   "pygments_lexer": "ipython3",
   "version": "3.7.1"
  }
 },
 "nbformat": 4,
 "nbformat_minor": 2
}
